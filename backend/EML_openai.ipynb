{
 "cells": [
  {
   "cell_type": "code",
   "execution_count": 2,
   "id": "8a742d3c-69a1-4864-a274-10f408c9713b",
   "metadata": {
    "tags": []
   },
   "outputs": [],
   "source": [
    "import openai\n"
   ]
  },
  {
   "cell_type": "code",
   "execution_count": 3,
   "id": "b06ba001-b9cd-4277-b9c3-aafd7974280d",
   "metadata": {
    "tags": []
   },
   "outputs": [],
   "source": [
    "%config IPCompleter.greedy=True\n",
    "\n"
   ]
  },
  {
   "cell_type": "code",
   "execution_count": 4,
   "id": "04b91672-e886-4420-a2f1-b7eef8c663c0",
   "metadata": {},
   "outputs": [],
   "source": [
    "API_KEY = \"\"\n",
    "openai.api_key = API_KEY"
   ]
  },
  {
   "cell_type": "code",
   "execution_count": 9,
   "id": "8bf04d1c-093d-4610-b60e-0271571b5e7d",
   "metadata": {
    "tags": []
   },
   "outputs": [],
   "source": [
    "response = openai.ChatCompletion.create(\n",
    " model = \"gpt-3.5-turbo\",\n",
    " messages=[\n",
    "     {\"role\": \"user\", \"content\": \"Analyze the sentiment of this text and identify if it contains any information that should be verified. Indicate if it invokes specific emotions in readers and whether it may be emotionally manipulative.' Exactly. The reason that the public no longer trusts the legacy media is that the media has been exposed as lying too many times to count. Legacy media absolutely deserves the lack of respect and ridicule it gets.Just yesterday, the legacy media tried to claim that @realDonaldTrump wanted to kill Liz Cheney when what he actually said was that she would feel differently about being a warmonger if she had to fight herself, instead of sending others to die. Shameful. ' \", }\n",
    "  ]    \n",
    ")"
   ]
  },
  {
   "cell_type": "code",
   "execution_count": 10,
   "id": "42d35069-cb87-4fc6-84ac-a262681742ce",
   "metadata": {
    "tags": []
   },
   "outputs": [
    {
     "name": "stdout",
     "output_type": "stream",
     "text": [
      "{\n",
      "  \"id\": \"chatcmpl-APEx0eIm98hcq3254sHzW7zVDjNCo\",\n",
      "  \"object\": \"chat.completion\",\n",
      "  \"created\": 1730579034,\n",
      "  \"model\": \"gpt-3.5-turbo-0125\",\n",
      "  \"choices\": [\n",
      "    {\n",
      "      \"index\": 0,\n",
      "      \"message\": {\n",
      "        \"role\": \"assistant\",\n",
      "        \"content\": \"The sentiment of this text is negative towards the legacy media, accusing them of lying and deserving of the lack of respect they receive. The statement about the media trying to claim something about @realDonaldTrump wanting to kill Liz Cheney should be verified, as the text implies it was misrepresented. The text may invoke feelings of anger or frustration towards the media for allegedly spreading misinformation. It could be considered emotionally manipulative as it aims to evoke distrust and disdain towards the legacy media.\",\n",
      "        \"refusal\": null\n",
      "      },\n",
      "      \"logprobs\": null,\n",
      "      \"finish_reason\": \"stop\"\n",
      "    }\n",
      "  ],\n",
      "  \"usage\": {\n",
      "    \"prompt_tokens\": 138,\n",
      "    \"completion_tokens\": 92,\n",
      "    \"total_tokens\": 230,\n",
      "    \"prompt_tokens_details\": {\n",
      "      \"cached_tokens\": 0\n",
      "    },\n",
      "    \"completion_tokens_details\": {\n",
      "      \"reasoning_tokens\": 0\n",
      "    }\n",
      "  },\n",
      "  \"system_fingerprint\": null\n",
      "}\n"
     ]
    }
   ],
   "source": [
    "print(response)"
   ]
  },
  {
   "cell_type": "code",
   "execution_count": null,
   "id": "3fcf36b0-a624-441f-bb3b-811d3bc41ce5",
   "metadata": {},
   "outputs": [],
   "source": []
  },
  {
   "cell_type": "code",
   "execution_count": null,
   "id": "1d52815f-b25f-4be0-b560-2ca353601cf5",
   "metadata": {},
   "outputs": [],
   "source": []
  }
 ],
 "metadata": {
  "kernelspec": {
   "display_name": "Python 3 (ipykernel)",
   "language": "python",
   "name": "python3"
  },
  "language_info": {
   "codemirror_mode": {
    "name": "ipython",
    "version": 3
   },
   "file_extension": ".py",
   "mimetype": "text/x-python",
   "name": "python",
   "nbconvert_exporter": "python",
   "pygments_lexer": "ipython3",
   "version": "3.11.5"
  }
 },
 "nbformat": 4,
 "nbformat_minor": 5
}
